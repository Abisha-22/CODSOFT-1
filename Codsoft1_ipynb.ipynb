{
  "nbformat": 4,
  "nbformat_minor": 0,
  "metadata": {
    "colab": {
      "provenance": [],
      "authorship_tag": "ABX9TyPMDxwnHtav31Aaw6qYu6o5",
      "include_colab_link": true
    },
    "kernelspec": {
      "name": "python3",
      "display_name": "Python 3"
    },
    "language_info": {
      "name": "python"
    }
  },
  "cells": [
    {
      "cell_type": "markdown",
      "metadata": {
        "id": "view-in-github",
        "colab_type": "text"
      },
      "source": [
        "<a href=\"https://colab.research.google.com/github/Abisha-22/CODSOFT-1/blob/main/Codsoft1_ipynb.ipynb\" target=\"_parent\"><img src=\"https://colab.research.google.com/assets/colab-badge.svg\" alt=\"Open In Colab\"/></a>"
      ]
    },
    {
      "cell_type": "code",
      "execution_count": null,
      "metadata": {
        "colab": {
          "base_uri": "https://localhost:8080/"
        },
        "id": "XSvZdWXvLuBU",
        "outputId": "1517223b-104d-4e52-d669-3b47efc195b0"
      },
      "outputs": [
        {
          "output_type": "stream",
          "name": "stdout",
          "text": [
            "You: Hi\n",
            "Chatbot: Hello! How can I assist you?\n",
            "You: Can you help me? \n",
            "Chatbot: I'm not sure how to respond to that.\n"
          ]
        }
      ],
      "source": [
        "def chatbot_response(user_input):\n",
        "    # Convert user input to lowercase for easier matching\n",
        "    user_input = user_input.lower()\n",
        "\n",
        "    # Define predefined rules and responses\n",
        "    rules = {\n",
        "        \"hi\": \"Hello! How can I assist you?\",\n",
        "        \"how are you\": \"I'm just a chatbot, but thanks for asking!\",\n",
        "        \"bye\": \"Goodbye! Have a great day!\",\n",
        "        \"default\": \"I'm not sure how to respond to that.\"\n",
        "    }\n",
        "\n",
        "    # Check if user input matches any predefined rules\n",
        "    for key, value in rules.items():\n",
        "        if key in user_input:\n",
        "            return value\n",
        "\n",
        "    # If no match found, return default response\n",
        "    return rules[\"default\"]\n",
        "\n",
        "# Main loop to interact with the chatbot\n",
        "while True:\n",
        "    user_input = input(\"You: \")\n",
        "    if user_input.lower() == 'exit':\n",
        "        print(\"Chatbot: Goodbye!\")\n",
        "        break\n",
        "    response = chatbot_response(user_input)\n",
        "    print(\"Chatbot:\", response)"
      ]
    }
  ]
}